{
    "metadata": {
        "language_info": {
            "file_extension": ".r", 
            "mimetype": "text/x-r-source", 
            "version": "3.3.2", 
            "pygments_lexer": "r", 
            "name": "R", 
            "codemirror_mode": "r"
        }, 
        "kernelspec": {
            "display_name": "R with Spark 2.0", 
            "language": "R", 
            "name": "r-spark20"
        }
    }, 
    "cells": [
        {
            "metadata": {
                "collapsed": true
            }, 
            "cell_type": "code", 
            "outputs": [], 
            "execution_count": null, 
            "source": ""
        }
    ], 
    "nbformat": 4, 
    "nbformat_minor": 0
}